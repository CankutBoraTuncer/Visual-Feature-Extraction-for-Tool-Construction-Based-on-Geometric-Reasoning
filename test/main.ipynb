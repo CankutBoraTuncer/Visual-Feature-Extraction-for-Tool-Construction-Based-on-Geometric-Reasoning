{
 "cells": [
  {
   "cell_type": "markdown",
   "metadata": {},
   "source": [
    "# TOOL MCGVYERING: TOOL CREATION WITH AUXILARY OBJECTS\n"
   ]
  },
  {
   "cell_type": "markdown",
   "metadata": {},
   "source": [
    "## Required Libraries & Parameters"
   ]
  },
  {
   "cell_type": "code",
   "execution_count": 1,
   "metadata": {},
   "outputs": [
    {
     "name": "stdout",
     "output_type": "stream",
     "text": [
      "Jupyter environment detected. Enabling Open3D WebVisualizer.\n",
      "[Open3D INFO] WebRTC GUI backend enabled.\n",
      "[Open3D INFO] WebRTCWindowSystem: HTTP handshake server disabled.\n"
     ]
    }
   ],
   "source": [
    "import sys\n",
    "sys.path.append('../src')\n",
    "import numpy as np\n",
    "import robotic as ry\n",
    "\n",
    "from RAI import RAI\n",
    "from SEG import SEG\n",
    "from SQF import SQF\n",
    "from Score import Score\n",
    "\n",
    "cam_list = [\"cam_front_left\", \"cam_front_right\", \"cam_back_right\", \"cam_back_left\", \"cam_up\", \"cam_front\", \"cam_left\", \"cam_back\", \"cam_right\"] \n",
    "filter = 1\n",
    "model_path = \"../src/models/tools/simple/parts\"\n",
    "target_path = \"../src/point_clouds_ref/\"\n",
    "scene = ry.Config()\n",
    "scene.addFile(\"../src/config/tools_simple2_s.g\") \n",
    "ref_file = \"../src/parameters_ref.csv\"\n",
    "cand_file = \"../src/parameters_cand.csv\"\n",
    "reference_tool = \"rake\" # shovel, hammer, rake # Select a reference tool"
   ]
  },
  {
   "cell_type": "markdown",
   "metadata": {},
   "source": [
    "## STEP 1: Generate the point cloud for the reference tool"
   ]
  },
  {
   "cell_type": "code",
   "execution_count": 2,
   "metadata": {},
   "outputs": [
    {
     "name": "stdout",
     "output_type": "stream",
     "text": [
      "Generating the reference point cloud\n",
      "Model name: rake_head\n",
      "Model name: rake_handle\n"
     ]
    }
   ],
   "source": [
    "print(\"Generating the reference point cloud\")\n",
    "rai = RAI(verbose=0)\n",
    "segments_ref = rai.generate_ref_point_cloud(model_path, cam_list, filter = filter, object_name=reference_tool)"
   ]
  },
  {
   "cell_type": "markdown",
   "metadata": {},
   "source": [
    "## STEP 2: Generate the point cloud for the candidate objects"
   ]
  },
  {
   "cell_type": "code",
   "execution_count": 3,
   "metadata": {},
   "outputs": [
    {
     "name": "stdout",
     "output_type": "stream",
     "text": [
      "Generating the candidate point cloud\n"
     ]
    }
   ],
   "source": [
    "print(\"Generating the candidate point cloud\")\n",
    "ptc_cand, _, _ = rai.get_raw_point_cloud(scene, cam_list[0:7], filter = filter)"
   ]
  },
  {
   "cell_type": "markdown",
   "metadata": {},
   "source": [
    "## STEP 3: Remove the plane from the scene"
   ]
  },
  {
   "cell_type": "code",
   "execution_count": 4,
   "metadata": {},
   "outputs": [
    {
     "name": "stdout",
     "output_type": "stream",
     "text": [
      "Removing the plane from the scene\n",
      "Segmenting the objects\n"
     ]
    }
   ],
   "source": [
    "print(\"Removing the plane from the scene\")\n",
    "seg = SEG(verbose=0)\n",
    "pcl_filtered = seg.RANSAC_plane(ptc_cand)\n",
    "\n",
    "print(\"Segmenting the objects\")\n",
    "segments_cand = seg.segment_objects(pcl_filtered, scene)"
   ]
  },
  {
   "cell_type": "markdown",
   "metadata": {},
   "source": [
    "# STEP Alternative: You can also use the premade object dataset (PS: Dont run Steps 2,3,6)"
   ]
  },
  {
   "cell_type": "code",
   "execution_count": 8,
   "metadata": {},
   "outputs": [],
   "source": [
    "segments_cand = RAI.read_point_cloud_from_folder(\"../src/models/dataset/\")"
   ]
  },
  {
   "cell_type": "markdown",
   "metadata": {},
   "source": [
    "## STEP 4: Fit SuperQuadric function to the objects"
   ]
  },
  {
   "cell_type": "code",
   "execution_count": 5,
   "metadata": {},
   "outputs": [
    {
     "name": "stdout",
     "output_type": "stream",
     "text": [
      "Parameters loaded from ../src/parameters_ref.csv\n",
      "Parameters loaded from ../src/parameters_cand.csv\n",
      "Fitting SuperQuadric function for missing candidate objects: {'obj_rectangle', 'obj_square', 'obj_comb'}\n",
      "Parameters saved to ../src/parameters_cand.csv\n"
     ]
    }
   ],
   "source": [
    "param_ref_full = SQF.load_parameters_from_csv(ref_file)\n",
    "param_cand_full = SQF.load_parameters_from_csv(cand_file)\n",
    "\n",
    "param_ref = {key: param_ref_full[key] for key in segments_ref.keys() if key in param_ref_full}\n",
    "param_cand = {key: param_cand_full[key] for key in segments_cand.keys() if key in param_cand_full}\n",
    "\n",
    "missing_ref_keys = set(segments_ref.keys()) - set(param_ref.keys())\n",
    "if missing_ref_keys:\n",
    "    print(f\"Fitting SuperQuadric function for missing reference objects: {missing_ref_keys}\")\n",
    "    for key in missing_ref_keys:\n",
    "        pcd = segments_ref[key]\n",
    "        sqf = SQF(pcd, verbose=0)\n",
    "        try:\n",
    "            param, _, _, _ = sqf.fit(sq_type=[0])\n",
    "            if len(param) < 12:\n",
    "                param = np.pad(param, (0, 12 - len(param)), mode='constant', constant_values=0)\n",
    "            param_ref[key] = param\n",
    "        except ValueError as e:\n",
    "            print(f\"Error fitting SQF for reference object {key}: {e}\")\n",
    "    SQF.save_parameters_to_csv({**param_ref_full, **param_ref}, ref_file)\n",
    "\n",
    "missing_cand_keys = set(segments_cand.keys()) - set(param_cand.keys())\n",
    "if missing_cand_keys:\n",
    "    print(f\"Fitting SuperQuadric function for missing candidate objects: {missing_cand_keys}\")\n",
    "    for key in missing_cand_keys:\n",
    "        pcd = segments_cand[key]\n",
    "        sqf = SQF(pcd, verbose=0)\n",
    "        try:\n",
    "            param, _, _, _ = sqf.fit(sq_type=[0])\n",
    "            if len(param) < 12:\n",
    "                param = np.pad(param, (0, 12 - len(param)), mode='constant', constant_values=0)\n",
    "            param_cand[key] = param\n",
    "        except ValueError as e:\n",
    "            print(f\"Error fitting SQF for candidate object {key}: {e}\")\n",
    "    SQF.save_parameters_to_csv({**param_cand_full, **param_cand}, cand_file)\n"
   ]
  },
  {
   "cell_type": "markdown",
   "metadata": {},
   "source": [
    "## STEP 5: Find the best matching candidates objects to the reference tool set"
   ]
  },
  {
   "cell_type": "code",
   "execution_count": 6,
   "metadata": {},
   "outputs": [
    {
     "name": "stdout",
     "output_type": "stream",
     "text": [
      "Finding the best matching candidate objects to the reference tool set\n",
      "Matches: [('rake_head', 'obj_prism_short'), ('rake_handle', 'obj_prism_long')], Total Error: 1.0970, Shape Error: 0.4170, Size Error: 0.3502, Ratio Error: 0.6595\n",
      "Matches: [('rake_head', 'obj_prism_long'), ('rake_handle', 'obj_prism_short')], Total Error: 1.6883, Shape Error: 0.4170, Size Error: 0.7587, Ratio Error: 1.0250\n",
      "Matches: [('rake_head', 'obj_comb'), ('rake_handle', 'obj_prism_long')], Total Error: 4.8872, Shape Error: 0.2453, Size Error: 0.9679, Ratio Error: 7.3480\n",
      "Matches: [('rake_head', 'obj_comb'), ('rake_handle', 'obj_prism_short')], Total Error: 5.2367, Shape Error: 0.2453, Size Error: 1.2198, Ratio Error: 7.5431\n",
      "Matches: [('rake_head', 'obj_square'), ('rake_handle', 'obj_prism_long')], Total Error: 5.2725, Shape Error: 0.1454, Size Error: 0.9915, Ratio Error: 8.2713\n",
      "Matches: [('rake_head', 'obj_square'), ('rake_handle', 'obj_prism_short')], Total Error: 5.6219, Shape Error: 0.1454, Size Error: 1.2433, Ratio Error: 8.4664\n",
      "Matches: [('rake_head', 'obj_prism_short'), ('rake_handle', 'obj_comb')], Total Error: 6.1538, Shape Error: 0.5888, Size Error: 1.5018, Ratio Error: 8.1264\n",
      "Matches: [('rake_head', 'obj_prism_long'), ('rake_handle', 'obj_comb')], Total Error: 6.3957, Shape Error: 0.5888, Size Error: 1.6586, Ratio Error: 8.2968\n",
      "Matches: [('rake_head', 'obj_prism_short'), ('rake_handle', 'obj_square')], Total Error: 7.0316, Shape Error: 0.9763, Size Error: 1.5284, Ratio Error: 9.0539\n",
      "Matches: [('rake_head', 'obj_prism_long'), ('rake_handle', 'obj_square')], Total Error: 7.2736, Shape Error: 0.9763, Size Error: 1.6851, Ratio Error: 9.2243\n",
      "Matches: [('rake_head', 'obj_rectangle'), ('rake_handle', 'obj_prism_long')], Total Error: 7.4211, Shape Error: 0.4170, Size Error: 1.1060, Ratio Error: 11.7960\n",
      "Matches: [('rake_head', 'obj_rectangle'), ('rake_handle', 'obj_prism_short')], Total Error: 7.7705, Shape Error: 0.4170, Size Error: 1.3578, Ratio Error: 11.9912\n",
      "Matches: [('rake_head', 'obj_prism_short'), ('rake_handle', 'obj_rectangle')], Total Error: 8.1197, Shape Error: 0.4170, Size Error: 1.5110, Ratio Error: 12.3833\n",
      "Matches: [('rake_head', 'obj_prism_long'), ('rake_handle', 'obj_rectangle')], Total Error: 8.3616, Shape Error: 0.4170, Size Error: 1.6677, Ratio Error: 12.5537\n",
      "Matches: [('rake_head', 'obj_square'), ('rake_handle', 'obj_comb')], Total Error: 10.3294, Shape Error: 0.3171, Size Error: 2.1431, Ratio Error: 15.7381\n",
      "Matches: [('rake_head', 'obj_comb'), ('rake_handle', 'obj_square')], Total Error: 10.8219, Shape Error: 0.8045, Size Error: 2.1462, Ratio Error: 15.7424\n",
      "Matches: [('rake_head', 'obj_comb'), ('rake_handle', 'obj_rectangle')], Total Error: 11.9099, Shape Error: 0.2453, Size Error: 2.1287, Ratio Error: 19.0718\n",
      "Matches: [('rake_head', 'obj_square'), ('rake_handle', 'obj_rectangle')], Total Error: 12.2952, Shape Error: 0.1454, Size Error: 2.1523, Ratio Error: 19.9951\n",
      "Matches: [('rake_head', 'obj_rectangle'), ('rake_handle', 'obj_comb')], Total Error: 12.4779, Shape Error: 0.5888, Size Error: 2.2577, Ratio Error: 19.2629\n",
      "Matches: [('rake_head', 'obj_rectangle'), ('rake_handle', 'obj_square')], Total Error: 13.3557, Shape Error: 0.9763, Size Error: 2.2842, Ratio Error: 20.1905\n"
     ]
    }
   ],
   "source": [
    "print(\"Finding the best matching candidate objects to the reference tool set\")\n",
    "score = Score(param_ref, param_cand, verbose=1)\n",
    "match_1, match_2 = score.algorithm_1()"
   ]
  },
  {
   "cell_type": "markdown",
   "metadata": {},
   "source": [
    "## STEP 6: Create the tool"
   ]
  },
  {
   "cell_type": "code",
   "execution_count": null,
   "metadata": {},
   "outputs": [],
   "source": [
    "rai.create_tool(scene, match_1, match_2)"
   ]
  }
 ],
 "metadata": {
  "kernelspec": {
   "display_name": "Python 3",
   "language": "python",
   "name": "python3"
  },
  "language_info": {
   "codemirror_mode": {
    "name": "ipython",
    "version": 3
   },
   "file_extension": ".py",
   "mimetype": "text/x-python",
   "name": "python",
   "nbconvert_exporter": "python",
   "pygments_lexer": "ipython3",
   "version": "3.8.10"
  }
 },
 "nbformat": 4,
 "nbformat_minor": 2
}
