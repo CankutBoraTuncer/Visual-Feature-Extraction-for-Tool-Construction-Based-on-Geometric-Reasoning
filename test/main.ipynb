{
 "cells": [
  {
   "cell_type": "markdown",
   "metadata": {},
   "source": [
    "# TOOL MCGVYERING: TOOL CREATION WITH AUXILARY OBJECTS\n"
   ]
  },
  {
   "cell_type": "markdown",
   "metadata": {},
   "source": [
    "## Required Libraries & Parameters"
   ]
  },
  {
   "cell_type": "code",
   "execution_count": 1,
   "metadata": {},
   "outputs": [
    {
     "name": "stdout",
     "output_type": "stream",
     "text": [
      "Jupyter environment detected. Enabling Open3D WebVisualizer.\n",
      "[Open3D INFO] WebRTC GUI backend enabled.\n",
      "[Open3D INFO] WebRTCWindowSystem: HTTP handshake server disabled.\n"
     ]
    }
   ],
   "source": [
    "import sys\n",
    "sys.path.append('../src')\n",
    "import numpy as np\n",
    "import robotic as ry\n",
    "\n",
    "from RAI import RAI\n",
    "from SEG import SEG\n",
    "from SQF import SQF\n",
    "from Score import Score\n",
    "\n",
    "cam_list = [\"cam_front_left\", \"cam_front_right\", \"cam_back_right\", \"cam_back_left\", \"cam_up\", \"cam_front\", \"cam_left\", \"cam_back\", \"cam_right\"] \n",
    "filter = 1\n",
    "model_path = \"../src/models/tools/simple/parts\"\n",
    "target_path = \"../src/point_clouds_ref/\"\n",
    "scene = ry.Config()\n",
    "scene.addFile(\"../src/config/tools_simple3_s.g\")\n",
    "ref_file = \"../src/parameters_ref.csv\"\n",
    "cand_file = \"../src/parameters_cand.csv\"\n",
    "\n",
    "reference_tool = \"spoon\" # shovel, hammer, rake # Select a reference tool"
   ]
  },
  {
   "cell_type": "markdown",
   "metadata": {},
   "source": [
    "## STEP 1: Generate the point cloud for the reference tool"
   ]
  },
  {
   "cell_type": "code",
   "execution_count": 2,
   "metadata": {},
   "outputs": [
    {
     "name": "stdout",
     "output_type": "stream",
     "text": [
      "Generating the reference point cloud\n",
      "Model name: spoon_head\n",
      "Model name: spoon_body\n"
     ]
    }
   ],
   "source": [
    "print(\"Generating the reference point cloud\")\n",
    "rai = RAI(verbose=0)\n",
    "segments_ref = rai.generate_ref_point_cloud(model_path, cam_list, filter = filter, object_name=reference_tool)"
   ]
  },
  {
   "cell_type": "markdown",
   "metadata": {},
   "source": [
    "## STEP 2: Generate the point cloud for the candidate objects"
   ]
  },
  {
   "cell_type": "code",
   "execution_count": 3,
   "metadata": {},
   "outputs": [
    {
     "name": "stdout",
     "output_type": "stream",
     "text": [
      "Generating the candidate point cloud\n"
     ]
    }
   ],
   "source": [
    "print(\"Generating the candidate point cloud\")\n",
    "ptc_cand, _, _ = rai.get_raw_point_cloud(scene, cam_list[0:7], filter = filter)"
   ]
  },
  {
   "cell_type": "markdown",
   "metadata": {},
   "source": [
    "## STEP 3: Remove the plane from the scene"
   ]
  },
  {
   "cell_type": "code",
   "execution_count": 4,
   "metadata": {},
   "outputs": [
    {
     "name": "stdout",
     "output_type": "stream",
     "text": [
      "Removing the plane from the scene\n",
      "Segmenting the objects\n"
     ]
    }
   ],
   "source": [
    "print(\"Removing the plane from the scene\")\n",
    "seg = SEG(verbose=0)\n",
    "pcl_filtered = seg.RANSAC_plane(ptc_cand)\n",
    "\n",
    "print(\"Segmenting the objects\")\n",
    "segments_cand = seg.segment_objects(pcl_filtered, scene)"
   ]
  },
  {
   "cell_type": "markdown",
   "metadata": {},
   "source": [
    "## STEP 4: Fit SuperQuadric function to the objects"
   ]
  },
  {
   "cell_type": "code",
   "execution_count": 6,
   "metadata": {},
   "outputs": [
    {
     "name": "stdout",
     "output_type": "stream",
     "text": [
      "Fitting SuperQuadric function for missing reference objects: {'spoon_head', 'spoon_body'}\n",
      "`ftol` termination condition is satisfied.\n",
      "Function evaluations 162, initial cost 1.5680e+01, final cost 2.7621e-01, first-order optimality 3.45e-03.\n"
     ]
    },
    {
     "name": "stderr",
     "output_type": "stream",
     "text": [
      "/home/bora/Bilkent_MS/CS554_Computer_Vision/CS554_Computer_Vision_Project/test/../src/SQF.py:334: RuntimeWarning: overflow encountered in power\n",
      "  Z1 = Z ** (2 / eps1)\n",
      "/home/bora/Bilkent_MS/CS554_Computer_Vision/CS554_Computer_Vision_Project/test/../src/SQF.py:337: RuntimeWarning: overflow encountered in power\n",
      "  quadric_func = (X1 + Y1) ** (eps2 / eps1) + Z1\n"
     ]
    },
    {
     "name": "stdout",
     "output_type": "stream",
     "text": [
      "`ftol` termination condition is satisfied.\n",
      "Function evaluations 264, initial cost 2.6141e+01, final cost 9.2429e-05, first-order optimality 2.37e-06.\n",
      "Fitting SuperQuadric function for missing candidate objects: {'obj_prism_short', 'obj_cylinder', 'obj_cube_hollow', 'obj_sphere_half_hollow'}\n",
      "`ftol` termination condition is satisfied.\n",
      "Function evaluations 228, initial cost 2.1550e+01, final cost 5.3557e-04, first-order optimality 1.39e-05.\n"
     ]
    },
    {
     "name": "stderr",
     "output_type": "stream",
     "text": [
      "/home/bora/Bilkent_MS/CS554_Computer_Vision/CS554_Computer_Vision_Project/test/../src/SQF.py:332: RuntimeWarning: overflow encountered in power\n",
      "  X1 = X ** (2 / eps2)\n",
      "/home/bora/Bilkent_MS/CS554_Computer_Vision/CS554_Computer_Vision_Project/test/../src/SQF.py:333: RuntimeWarning: overflow encountered in power\n",
      "  Y1 = Y ** (2 / eps2)\n"
     ]
    },
    {
     "name": "stdout",
     "output_type": "stream",
     "text": [
      "`ftol` termination condition is satisfied.\n",
      "Function evaluations 255, initial cost 1.6461e+01, final cost 3.9793e-04, first-order optimality 1.56e-05.\n"
     ]
    },
    {
     "name": "stderr",
     "output_type": "stream",
     "text": [
      "/home/bora/Bilkent_MS/CS554_Computer_Vision/CS554_Computer_Vision_Project/test/../src/SQF.py:332: RuntimeWarning: overflow encountered in power\n",
      "  X1 = X ** (2 / eps2)\n",
      "/home/bora/Bilkent_MS/CS554_Computer_Vision/CS554_Computer_Vision_Project/test/../src/SQF.py:333: RuntimeWarning: overflow encountered in power\n",
      "  Y1 = Y ** (2 / eps2)\n",
      "/home/bora/Bilkent_MS/CS554_Computer_Vision/CS554_Computer_Vision_Project/test/../src/SQF.py:334: RuntimeWarning: overflow encountered in power\n",
      "  Z1 = Z ** (2 / eps1)\n"
     ]
    },
    {
     "name": "stdout",
     "output_type": "stream",
     "text": [
      "`ftol` termination condition is satisfied.\n",
      "Function evaluations 202, initial cost 4.7369e+01, final cost 2.7905e-02, first-order optimality 3.62e-04.\n",
      "`ftol` termination condition is satisfied.\n",
      "Function evaluations 420, initial cost 3.9205e+00, final cost 8.3585e-02, first-order optimality 8.46e-05.\n"
     ]
    }
   ],
   "source": [
    "param_ref_full = SQF.load_parameters_from_csv(ref_file)\n",
    "param_cand_full = SQF.load_parameters_from_csv(cand_file)\n",
    "\n",
    "param_ref = {key: param_ref_full[key] for key in segments_ref.keys() if key in param_ref_full}\n",
    "param_cand = {key: param_cand_full[key] for key in segments_cand.keys() if key in param_cand_full}\n",
    "\n",
    "missing_ref_keys = set(segments_ref.keys()) - set(param_ref.keys())\n",
    "if missing_ref_keys:\n",
    "    print(f\"Fitting SuperQuadric function for missing reference objects: {missing_ref_keys}\")\n",
    "    for key in missing_ref_keys:\n",
    "        pcd = segments_ref[key]\n",
    "        sqf = SQF(pcd, verbose=0)\n",
    "        try:\n",
    "            param, _, _, _ = sqf.fit(sq_type=[0])\n",
    "            if len(param) < 12:\n",
    "                param = np.pad(param, (0, 12 - len(param)), mode='constant', constant_values=0)\n",
    "            param_ref[key] = param\n",
    "        except ValueError as e:\n",
    "            print(f\"Error fitting SQF for reference object {key}: {e}\")\n",
    "    #SQF.save_parameters_to_csv({**param_ref_full, **param_ref}, ref_file)\n",
    "\n",
    "missing_cand_keys = set(segments_cand.keys()) - set(param_cand.keys())\n",
    "if missing_cand_keys:\n",
    "    print(f\"Fitting SuperQuadric function for missing candidate objects: {missing_cand_keys}\")\n",
    "    for key in missing_cand_keys:\n",
    "        pcd = segments_cand[key]\n",
    "        sqf = SQF(pcd, verbose=0)\n",
    "        try:\n",
    "            param, _, _, _ = sqf.fit(sq_type=[0])\n",
    "            if len(param) < 12:\n",
    "                param = np.pad(param, (0, 12 - len(param)), mode='constant', constant_values=0)\n",
    "            param_cand[key] = param\n",
    "        except ValueError as e:\n",
    "            print(f\"Error fitting SQF for candidate object {key}: {e}\")\n",
    "    #SQF.save_parameters_to_csv({**param_cand_full, **param_cand}, cand_file)\n"
   ]
  },
  {
   "cell_type": "markdown",
   "metadata": {},
   "source": [
    "## STEP 5: Find the best matching candidates objects to the reference tool set"
   ]
  },
  {
   "cell_type": "code",
   "execution_count": 7,
   "metadata": {},
   "outputs": [
    {
     "name": "stdout",
     "output_type": "stream",
     "text": [
      "Finding the best matching candidate objects to the reference tool set\n",
      "Matches: [('spoon_head', 'obj_sphere_half_hollow'), ('spoon_body', 'obj_prism_short')], Total Error: 0.5234, Shape Error: 0.0810, Size Error: 0.2330, Ratio Error: 0.4188\n",
      "Matches: [('spoon_head', 'obj_sphere_half_hollow'), ('spoon_body', 'obj_cube_hollow')], Total Error: 1.3233, Shape Error: 0.0830, Size Error: 0.6681, Ratio Error: 1.1444\n",
      "Matches: [('spoon_head', 'obj_sphere_half_hollow'), ('spoon_body', 'obj_cylinder')], Total Error: 1.6403, Shape Error: 1.0419, Size Error: 0.3360, Ratio Error: 0.5247\n",
      "Matches: [('spoon_head', 'obj_cylinder'), ('spoon_body', 'obj_prism_short')], Total Error: 1.9839, Shape Error: 0.9102, Size Error: 0.6306, Ratio Error: 0.8864\n",
      "Matches: [('spoon_head', 'obj_cube_hollow'), ('spoon_body', 'obj_prism_short')], Total Error: 2.1512, Shape Error: 1.3242, Size Error: 0.5224, Ratio Error: 0.6094\n",
      "Matches: [('spoon_head', 'obj_cylinder'), ('spoon_body', 'obj_cube_hollow')], Total Error: 2.7838, Shape Error: 0.9122, Size Error: 1.0657, Ratio Error: 1.6120\n",
      "Matches: [('spoon_head', 'obj_cube_hollow'), ('spoon_body', 'obj_cylinder')], Total Error: 3.2680, Shape Error: 2.2851, Size Error: 0.6253, Ratio Error: 0.7152\n",
      "Matches: [('spoon_head', 'obj_prism_short'), ('spoon_body', 'obj_cube_hollow')], Total Error: 3.3458, Shape Error: 1.3194, Size Error: 1.1584, Ratio Error: 1.7362\n",
      "Matches: [('spoon_head', 'obj_prism_short'), ('spoon_body', 'obj_cylinder')], Total Error: 3.6628, Shape Error: 2.2783, Size Error: 0.8263, Ratio Error: 1.1165\n",
      "Matches: [('spoon_head', 'obj_cylinder'), ('spoon_body', 'obj_sphere_half_hollow')], Total Error: 4.2720, Shape Error: 2.2904, Size Error: 1.2357, Ratio Error: 1.4918\n",
      "Matches: [('spoon_head', 'obj_cube_hollow'), ('spoon_body', 'obj_sphere_half_hollow')], Total Error: 4.4393, Shape Error: 2.7044, Size Error: 1.1275, Ratio Error: 1.2148\n",
      "Matches: [('spoon_head', 'obj_prism_short'), ('spoon_body', 'obj_sphere_half_hollow')], Total Error: 4.8340, Shape Error: 2.6976, Size Error: 1.3284, Ratio Error: 1.6160\n"
     ]
    }
   ],
   "source": [
    "print(\"Finding the best matching candidate objects to the reference tool set\")\n",
    "score = Score(param_ref, param_cand, verbose=1)\n",
    "match_1, match_2 = score.algorithm_1()"
   ]
  },
  {
   "cell_type": "markdown",
   "metadata": {},
   "source": [
    "## STEP 6: Create the tool"
   ]
  },
  {
   "cell_type": "code",
   "execution_count": null,
   "metadata": {},
   "outputs": [],
   "source": [
    "rai.create_tool(scene, match_1, match_2)"
   ]
  }
 ],
 "metadata": {
  "kernelspec": {
   "display_name": "Python 3",
   "language": "python",
   "name": "python3"
  },
  "language_info": {
   "codemirror_mode": {
    "name": "ipython",
    "version": 3
   },
   "file_extension": ".py",
   "mimetype": "text/x-python",
   "name": "python",
   "nbconvert_exporter": "python",
   "pygments_lexer": "ipython3",
   "version": "3.8.10"
  }
 },
 "nbformat": 4,
 "nbformat_minor": 2
}
