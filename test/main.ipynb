{
 "cells": [
  {
   "cell_type": "markdown",
   "metadata": {},
   "source": [
    "# TOOL MCGVYERING: TOOL CREATION WITH AUXILARY OBJECTS\n"
   ]
  },
  {
   "cell_type": "markdown",
   "metadata": {},
   "source": [
    "## Required Libraries & Parameters"
   ]
  },
  {
   "cell_type": "code",
   "execution_count": 1,
   "metadata": {},
   "outputs": [
    {
     "name": "stdout",
     "output_type": "stream",
     "text": [
      "Jupyter environment detected. Enabling Open3D WebVisualizer.\n",
      "[Open3D INFO] WebRTC GUI backend enabled.\n",
      "[Open3D INFO] WebRTCWindowSystem: HTTP handshake server disabled.\n"
     ]
    }
   ],
   "source": [
    "import sys\n",
    "sys.path.append('../src')\n",
    "import numpy as np\n",
    "import robotic as ry\n",
    "\n",
    "from RAI import RAI\n",
    "from SEG import SEG\n",
    "from SQF import SQF\n",
    "from Score import Score\n",
    "\n",
    "cam_list = [\"cam_front\", \"cam_back\", \"cam_left\", \"cam_right\", \"cam_up\", \"cam_down\"]\n",
    "filter = 1\n",
    "model_path = \"../src/models/tools/simple/parts\"\n",
    "target_path = \"../src/point_clouds_ref/\"\n",
    "scene = ry.Config()\n",
    "scene.addFile(\"../src/config/tools_simple1_s.g\")\n",
    "scene.view(False)\n",
    "\n",
    "reference_tool = \"shovel\" # Select a reference tool"
   ]
  },
  {
   "cell_type": "markdown",
   "metadata": {},
   "source": [
    "## STEP 1: Generate the point cloud for the reference tool"
   ]
  },
  {
   "cell_type": "code",
   "execution_count": 2,
   "metadata": {},
   "outputs": [
    {
     "name": "stdout",
     "output_type": "stream",
     "text": [
      "Generating the reference point cloud\n",
      "Model name: shovel_head_s\n",
      "Model name: shovel_handle_s\n"
     ]
    }
   ],
   "source": [
    "print(\"Generating the reference point cloud\")\n",
    "rai = RAI(verbose=0)\n",
    "segments_ref = rai.generate_ref_point_cloud(model_path, cam_list, filter = filter, object_name=reference_tool)"
   ]
  },
  {
   "cell_type": "markdown",
   "metadata": {},
   "source": [
    "## STEP 2: Generate the point cloud for the candidate objects"
   ]
  },
  {
   "cell_type": "code",
   "execution_count": 3,
   "metadata": {},
   "outputs": [
    {
     "name": "stdout",
     "output_type": "stream",
     "text": [
      "Generating the candidate point cloud\n"
     ]
    }
   ],
   "source": [
    "print(\"Generating the candidate point cloud\")\n",
    "cam_list = [\"cam_front_left\", \"cam_front_right\", \"cam_back_right\", \"cam_back_left\", \"cam_up\", \"cam_front\", \"cam_left\", \"cam_back\"] \n",
    "ptc_cand, _, _ = rai.get_raw_point_cloud(scene, cam_list, filter = filter)\n",
    "   "
   ]
  },
  {
   "cell_type": "markdown",
   "metadata": {},
   "source": [
    "## STEP 3: Remove the plane from the scene"
   ]
  },
  {
   "cell_type": "code",
   "execution_count": 4,
   "metadata": {},
   "outputs": [
    {
     "name": "stdout",
     "output_type": "stream",
     "text": [
      "Removing the plane from the scene\n"
     ]
    }
   ],
   "source": [
    "print(\"Removing the plane from the scene\")\n",
    "seg = SEG(verbose=0)\n",
    "pcl_filtered = seg.RANSAC_plane(ptc_cand)\n",
    "segments_cand = seg.segment_objects(pcl_filtered, scene)"
   ]
  },
  {
   "cell_type": "markdown",
   "metadata": {},
   "source": [
    "## STEP 4: Fit SuperQuadric function to the objects"
   ]
  },
  {
   "cell_type": "code",
   "execution_count": 5,
   "metadata": {},
   "outputs": [
    {
     "name": "stdout",
     "output_type": "stream",
     "text": [
      "Fitting SuperQuadric function to the objects\n",
      "Both `ftol` and `xtol` termination conditions are satisfied.\n",
      "Function evaluations 231, initial cost 7.9156e+00, final cost 8.7928e-01, first-order optimality 1.05e-07.\n",
      "`xtol` termination condition is satisfied.\n",
      "Function evaluations 1653, initial cost 5.4748e-01, final cost 7.1232e-05, first-order optimality 3.32e-07.\n",
      "`gtol` termination condition is satisfied.\n",
      "Function evaluations 1634, initial cost 2.1509e-01, final cost 6.8433e-05, first-order optimality 9.97e-09.\n",
      "`ftol` termination condition is satisfied.\n",
      "Function evaluations 400, initial cost 2.3696e+02, final cost 5.3247e-03, first-order optimality 3.55e-06.\n",
      "`ftol` termination condition is satisfied.\n",
      "Function evaluations 275, initial cost 1.1473e+00, final cost 8.3112e-02, first-order optimality 2.90e-05.\n"
     ]
    }
   ],
   "source": [
    "print(\"Fitting SuperQuadric function to the objects\")\n",
    "param_ref  = {}\n",
    "for key, pcd in segments_ref.items():\n",
    "    sqf = SQF(pcd, verbose=0)\n",
    "    param, _, _, _ = sqf.fit(sq_type=[0])\n",
    "    if len(param) < 12:\n",
    "        param = np.pad(param, (0, 12 - len(param)), mode='constant', constant_values=0)\n",
    "    param_ref[key] = param\n",
    "\n",
    "param_cand = {}\n",
    "for key, pcd in segments_cand.items():\n",
    "    sqf = SQF(pcd, verbose=0)\n",
    "    param, _, _, _ = sqf.fit(sq_type=[0])\n",
    "    if len(param) < 12:\n",
    "        param = np.pad(param, (0, 12 - len(param)), mode='constant', constant_values=0)\n",
    "    param_cand[key] = param"
   ]
  },
  {
   "cell_type": "markdown",
   "metadata": {},
   "source": [
    "## STEP 5: Find the best matching candidates objects to the reference tool set"
   ]
  },
  {
   "cell_type": "code",
   "execution_count": 6,
   "metadata": {},
   "outputs": [
    {
     "name": "stdout",
     "output_type": "stream",
     "text": [
      "Finding the best matching candidate objects to the reference tool set\n",
      "shovel_head_s object matches with obj_hammer_head object\n",
      "shovel_handle_s object matches with obj_axe_handle object\n"
     ]
    }
   ],
   "source": [
    "print(\"Finding the best matching candidate objects to the reference tool set\")\n",
    "score = Score(param_ref, param_cand, verbose=1)\n",
    "match_1, match_2 = score.algorithm_1()"
   ]
  },
  {
   "cell_type": "markdown",
   "metadata": {},
   "source": [
    "## STEP 6: Create the tool"
   ]
  },
  {
   "cell_type": "code",
   "execution_count": 7,
   "metadata": {},
   "outputs": [
    {
     "name": "stdout",
     "output_type": "stream",
     "text": [
      "-- pairCollision.cpp:libccd:354(0) WARNING: called MPR penetration for non intersecting meshes...\n",
      "-- pairCollision.cpp:libccd:359(0) WARNING: but GJK says intersection\n",
      "-- pairCollision.cpp:libccd:354(0) WARNING: called MPR penetration for non intersecting meshes...\n",
      "-- pairCollision.cpp:libccd:359(0) WARNING: but GJK says intersection\n",
      "-- pairCollision.cpp:libccd:354(0) WARNING: called MPR penetration for non intersecting meshes...\n",
      "-- pairCollision.cpp:libccd:359(0) WARNING: but GJK says intersection\n",
      "-- pairCollision.cpp:libccd:354(0) WARNING: called MPR penetration for non intersecting meshes...\n",
      "-- pairCollision.cpp:libccd:359(0) WARNING: but GJK says intersection\n",
      "-- pairCollision.cpp:libccd:354(0) WARNING: called MPR penetration for non intersecting meshes...\n",
      "-- pairCollision.cpp:libccd:359(0) WARNING: but GJK says intersection\n",
      "-- pairCollision.cpp:libccd:354(0) WARNING: called MPR penetration for non intersecting meshes...\n",
      "-- pairCollision.cpp:libccd:359(0) WARNING: but GJK says intersection\n",
      "-- pairCollision.cpp:libccd:354(0) WARNING: called MPR penetration for non intersecting meshes...\n",
      "-- pairCollision.cpp:libccd:359(0) WARNING: but GJK says intersection\n",
      "-- pairCollision.cpp:libccd:354(0) WARNING: called MPR penetration for non intersecting meshes...\n",
      "-- pairCollision.cpp:libccd:359(0) WARNING: but GJK says intersection\n",
      "-- pairCollision.cpp:libccd:354(0) WARNING: called MPR penetration for non intersecting meshes...\n",
      "-- pairCollision.cpp:libccd:359(0) WARNING: but GJK says intersection\n",
      "-- pairCollision.cpp:libccd:354(0) WARNING: called MPR penetration for non intersecting meshes...\n",
      "-- pairCollision.cpp:libccd:359(0) WARNING: but GJK says intersection\n",
      "-- pairCollision.cpp:libccd:354(0) WARNING: called MPR penetration for non intersecting meshes...\n",
      "-- pairCollision.cpp:libccd:359(0) WARNING: but GJK says intersection\n",
      "-- pairCollision.cpp:libccd:354(0) WARNING: called MPR penetration for non intersecting meshes...\n",
      "-- pairCollision.cpp:libccd:359(0) WARNING: but GJK says intersection\n",
      "-- pairCollision.cpp:libccd:354(0) WARNING: called MPR penetration for non intersecting meshes...\n",
      "-- pairCollision.cpp:libccd:359(0) WARNING: but GJK says intersection\n",
      "-- pairCollision.cpp:libccd:354(0) WARNING: called MPR penetration for non intersecting meshes...\n",
      "-- pairCollision.cpp:libccd:359(0) WARNING: but GJK says intersection\n",
      "-- pairCollision.cpp:libccd:354(0) WARNING: called MPR penetration for non intersecting meshes...\n",
      "-- pairCollision.cpp:libccd:359(0) WARNING: but GJK says intersection\n",
      "-- pairCollision.cpp:libccd:354(0) WARNING: called MPR penetration for non intersecting meshes...\n",
      "-- pairCollision.cpp:libccd:359(0) WARNING: but GJK says intersection\n",
      "-- pairCollision.cpp:libccd:354(0) WARNING: called MPR penetration for non intersecting meshes...\n",
      "-- pairCollision.cpp:libccd:359(0) WARNING: but GJK says intersection\n",
      "-- pairCollision.cpp:libccd:354(0) WARNING: called MPR penetration for non intersecting meshes...\n",
      "-- pairCollision.cpp:libccd:359(0) WARNING: but GJK says intersection\n",
      "-- pairCollision.cpp:libccd:354(0) WARNING: called MPR penetration for non intersecting meshes...\n",
      "-- pairCollision.cpp:libccd:359(0) WARNING: but GJK says intersection\n",
      "-- pairCollision.cpp:libccd:354(0) WARNING: called MPR penetration for non intersecting meshes...\n",
      "-- pairCollision.cpp:libccd:359(0) WARNING: but GJK says intersection\n",
      "-- pairCollision.cpp:libccd:354(0) WARNING: called MPR penetration for non intersecting meshes...\n",
      "-- pairCollision.cpp:libccd:359(0) WARNING: but GJK says intersection\n",
      "{ time: 7.90337, evals: 875, done: 1, feasible: 0, eq: 124.466, ineq: 0, sos: 88.8087, f: 0 }\n"
     ]
    },
    {
     "data": {
      "text/plain": [
       "False"
      ]
     },
     "execution_count": 7,
     "metadata": {},
     "output_type": "execute_result"
    }
   ],
   "source": [
    "rai.create_tool(scene, match_1, match_2)"
   ]
  }
 ],
 "metadata": {
  "kernelspec": {
   "display_name": "Python 3",
   "language": "python",
   "name": "python3"
  },
  "language_info": {
   "codemirror_mode": {
    "name": "ipython",
    "version": 3
   },
   "file_extension": ".py",
   "mimetype": "text/x-python",
   "name": "python",
   "nbconvert_exporter": "python",
   "pygments_lexer": "ipython3",
   "version": "3.8.10"
  }
 },
 "nbformat": 4,
 "nbformat_minor": 2
}
