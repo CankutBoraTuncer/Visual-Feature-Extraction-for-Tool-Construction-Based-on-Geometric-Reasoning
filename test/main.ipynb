{
 "cells": [
  {
   "cell_type": "markdown",
   "metadata": {},
   "source": [
    "# TOOL MCGVYERING: TOOL CREATION WITH AUXILARY OBJECTS\n"
   ]
  },
  {
   "cell_type": "markdown",
   "metadata": {},
   "source": [
    "## Required Libraries & Parameters"
   ]
  },
  {
   "cell_type": "code",
   "execution_count": 1,
   "metadata": {},
   "outputs": [
    {
     "name": "stdout",
     "output_type": "stream",
     "text": [
      "Jupyter environment detected. Enabling Open3D WebVisualizer.\n",
      "[Open3D INFO] WebRTC GUI backend enabled.\n",
      "[Open3D INFO] WebRTCWindowSystem: HTTP handshake server disabled.\n"
     ]
    }
   ],
   "source": [
    "import sys\n",
    "sys.path.append('../src')\n",
    "import numpy as np\n",
    "import robotic as ry\n",
    "\n",
    "from RAI import RAI\n",
    "from SEG import SEG\n",
    "from SQF import SQF\n",
    "from Score import Score\n",
    "\n",
    "cam_list = [\"cam_front_left\", \"cam_front_right\", \"cam_back_right\", \"cam_back_left\", \"cam_up\", \"cam_front\", \"cam_left\", \"cam_back\", \"cam_right\"] \n",
    "filter = 1\n",
    "model_path = \"../src/models/tools/simple/parts\"\n",
    "target_path = \"../src/point_clouds_ref/\"\n",
    "scene = ry.Config()\n",
    "scene.addFile(\"../src/config/tools_simple2_s.g\")\n",
    "ref_file = \"../src/parameters_ref.csv\"\n",
    "cand_file = \"../src/parameters_cand.csv\"\n",
    "\n",
    "reference_tool = \"hammer\" # shovel, hammer, rake, scraper, axe # Select a reference tool"
   ]
  },
  {
   "cell_type": "markdown",
   "metadata": {},
   "source": [
    "## STEP 1: Generate the point cloud for the reference tool"
   ]
  },
  {
   "cell_type": "code",
   "execution_count": 2,
   "metadata": {},
   "outputs": [
    {
     "name": "stdout",
     "output_type": "stream",
     "text": [
      "Generating the reference point cloud\n",
      "Model name: hammer_handle_s\n"
     ]
    },
    {
     "ename": "KeyboardInterrupt",
     "evalue": "",
     "output_type": "error",
     "traceback": [
      "\u001b[0;31m---------------------------------------------------------------------------\u001b[0m",
      "\u001b[0;31mKeyboardInterrupt\u001b[0m                         Traceback (most recent call last)",
      "Cell \u001b[0;32mIn[2], line 3\u001b[0m\n\u001b[1;32m      1\u001b[0m \u001b[38;5;28mprint\u001b[39m(\u001b[38;5;124m\"\u001b[39m\u001b[38;5;124mGenerating the reference point cloud\u001b[39m\u001b[38;5;124m\"\u001b[39m)\n\u001b[1;32m      2\u001b[0m rai \u001b[38;5;241m=\u001b[39m RAI(verbose\u001b[38;5;241m=\u001b[39m\u001b[38;5;241m0\u001b[39m)\n\u001b[0;32m----> 3\u001b[0m segments_ref \u001b[38;5;241m=\u001b[39m \u001b[43mrai\u001b[49m\u001b[38;5;241;43m.\u001b[39;49m\u001b[43mgenerate_ref_point_cloud\u001b[49m\u001b[43m(\u001b[49m\u001b[43mmodel_path\u001b[49m\u001b[43m,\u001b[49m\u001b[43m \u001b[49m\u001b[43mcam_list\u001b[49m\u001b[43m,\u001b[49m\u001b[43m \u001b[49m\u001b[38;5;28;43mfilter\u001b[39;49m\u001b[43m \u001b[49m\u001b[38;5;241;43m=\u001b[39;49m\u001b[43m \u001b[49m\u001b[38;5;28;43mfilter\u001b[39;49m\u001b[43m,\u001b[49m\u001b[43m \u001b[49m\u001b[43mobject_name\u001b[49m\u001b[38;5;241;43m=\u001b[39;49m\u001b[43mreference_tool\u001b[49m\u001b[43m)\u001b[49m\n",
      "File \u001b[0;32m~/Bilkent_MS/CS554_Computer_Vision/CS554_Computer_Vision_Project/test/../src/RAI.py:72\u001b[0m, in \u001b[0;36mRAI.generate_ref_point_cloud\u001b[0;34m(self, model_path, cam_list, filter, target_path, object_name)\u001b[0m\n\u001b[1;32m     69\u001b[0m C\u001b[38;5;241m.\u001b[39maddFile(\u001b[38;5;124m\"\u001b[39m\u001b[38;5;124m../src/config/base.g\u001b[39m\u001b[38;5;124m\"\u001b[39m)\n\u001b[1;32m     70\u001b[0m C\u001b[38;5;241m.\u001b[39maddFrame(model_name, \u001b[38;5;124m\"\u001b[39m\u001b[38;5;124mworld\u001b[39m\u001b[38;5;124m\"\u001b[39m, args\u001b[38;5;241m=\u001b[39marg)  \n\u001b[0;32m---> 72\u001b[0m pts \u001b[38;5;241m=\u001b[39m \u001b[38;5;28mself\u001b[39m\u001b[38;5;241m.\u001b[39mget_point_cloud(C, cam_list, model_name, \u001b[38;5;28mfilter\u001b[39m \u001b[38;5;241m=\u001b[39m \u001b[38;5;28mfilter\u001b[39m)\n\u001b[1;32m     74\u001b[0m point_cloud \u001b[38;5;241m=\u001b[39m o3d\u001b[38;5;241m.\u001b[39mgeometry\u001b[38;5;241m.\u001b[39mPointCloud()\n\u001b[1;32m     75\u001b[0m point_cloud\u001b[38;5;241m.\u001b[39mpoints \u001b[38;5;241m=\u001b[39m o3d\u001b[38;5;241m.\u001b[39mutility\u001b[38;5;241m.\u001b[39mVector3dVector(pts)\n",
      "\u001b[0;31mKeyboardInterrupt\u001b[0m: "
     ]
    }
   ],
   "source": [
    "print(\"Generating the reference point cloud\")\n",
    "rai = RAI(verbose=0)\n",
    "segments_ref = rai.generate_ref_point_cloud(model_path, cam_list, filter = filter, object_name=reference_tool)"
   ]
  },
  {
   "cell_type": "markdown",
   "metadata": {},
   "source": [
    "## STEP 2: Generate the point cloud for the candidate objects"
   ]
  },
  {
   "cell_type": "code",
   "execution_count": null,
   "metadata": {},
   "outputs": [],
   "source": [
    "print(\"Generating the candidate point cloud\")\n",
    "ptc_cand, _, _ = rai.get_raw_point_cloud(scene, cam_list[0:7], filter = filter)"
   ]
  },
  {
   "cell_type": "markdown",
   "metadata": {},
   "source": [
    "## STEP 3: Remove the plane from the scene"
   ]
  },
  {
   "cell_type": "code",
   "execution_count": null,
   "metadata": {},
   "outputs": [],
   "source": [
    "print(\"Removing the plane from the scene\")\n",
    "seg = SEG(verbose=0)\n",
    "pcl_filtered = seg.RANSAC_plane(ptc_cand)\n",
    "\n",
    "print(\"Segmenting the objects\")\n",
    "segments_cand = seg.segment_objects(pcl_filtered, scene)"
   ]
  },
  {
   "cell_type": "markdown",
   "metadata": {},
   "source": [
    "## STEP 4: Fit SuperQuadric function to the objects"
   ]
  },
  {
   "cell_type": "code",
   "execution_count": null,
   "metadata": {},
   "outputs": [],
   "source": [
    "param_ref = SQF.load_parameters_from_csv(ref_file)\n",
    "param_cand = SQF.load_parameters_from_csv(cand_file)\n",
    "\n",
    "missing_ref_keys = set(segments_ref.keys()) - set(param_ref.keys())\n",
    "if missing_ref_keys:\n",
    "    print(f\"Fitting SuperQuadric function for missing reference objects: {missing_ref_keys}\")\n",
    "    for key in missing_ref_keys:\n",
    "        pcd = segments_ref[key]\n",
    "        sqf = SQF(pcd, verbose=0)\n",
    "        param, _, _, _ = sqf.fit(sq_type=[0])\n",
    "        if len(param) < 12:\n",
    "            param = np.pad(param, (0, 12 - len(param)), mode='constant', constant_values=0)\n",
    "        param_ref[key] = param\n",
    "    SQF.save_parameters_to_csv(param_ref, ref_file)\n",
    "\n",
    "missing_cand_keys = set(segments_cand.keys()) - set(param_cand.keys())\n",
    "if missing_cand_keys:\n",
    "    print(f\"Fitting SuperQuadric function for missing candidate objects: {missing_cand_keys}\")\n",
    "    for key in missing_cand_keys:\n",
    "        pcd = segments_cand[key]\n",
    "        sqf = SQF(pcd, verbose=0)\n",
    "        param, _, _, _ = sqf.fit(sq_type=[0])\n",
    "        if len(param) < 12:\n",
    "            param = np.pad(param, (0, 12 - len(param)), mode='constant', constant_values=0)\n",
    "        param_cand[key] = param\n",
    "    SQF.save_parameters_to_csv(param_cand, cand_file)\n"
   ]
  },
  {
   "cell_type": "markdown",
   "metadata": {},
   "source": [
    "## STEP 5: Find the best matching candidates objects to the reference tool set"
   ]
  },
  {
   "cell_type": "code",
   "execution_count": null,
   "metadata": {},
   "outputs": [],
   "source": [
    "print(\"Finding the best matching candidate objects to the reference tool set\")\n",
    "score = Score(param_ref, param_cand, verbose=1)\n",
    "match_1, match_2 = score.algorithm_1()"
   ]
  },
  {
   "cell_type": "markdown",
   "metadata": {},
   "source": [
    "## STEP 6: Create the tool"
   ]
  },
  {
   "cell_type": "code",
   "execution_count": null,
   "metadata": {},
   "outputs": [],
   "source": [
    "rai.create_tool(scene, match_1, match_2)"
   ]
  }
 ],
 "metadata": {
  "kernelspec": {
   "display_name": "Python 3",
   "language": "python",
   "name": "python3"
  },
  "language_info": {
   "codemirror_mode": {
    "name": "ipython",
    "version": 3
   },
   "file_extension": ".py",
   "mimetype": "text/x-python",
   "name": "python",
   "nbconvert_exporter": "python",
   "pygments_lexer": "ipython3",
   "version": "3.8.10"
  }
 },
 "nbformat": 4,
 "nbformat_minor": 2
}
