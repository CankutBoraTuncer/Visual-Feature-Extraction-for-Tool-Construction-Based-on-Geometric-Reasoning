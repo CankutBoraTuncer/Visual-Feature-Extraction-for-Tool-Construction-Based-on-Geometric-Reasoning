{
 "cells": [
  {
   "cell_type": "markdown",
   "metadata": {},
   "source": [
    "# TOOL MCGVYERING: TOOL CREATION WITH AUXILARY OBJECTS\n"
   ]
  },
  {
   "cell_type": "markdown",
   "metadata": {},
   "source": [
    "## Required Libraries & Parameters"
   ]
  },
  {
   "cell_type": "code",
   "execution_count": null,
   "metadata": {},
   "outputs": [],
   "source": [
    "import sys\n",
    "sys.path.append('../src')\n",
    "import numpy as np\n",
    "import robotic as ry\n",
    "\n",
    "from RAI import RAI\n",
    "from SEG import SEG\n",
    "from SQF import SQF\n",
    "from Score import Score\n",
    "\n",
    "cam_list = [\"cam_front\", \"cam_back\", \"cam_left\", \"cam_right\", \"cam_up\", \"cam_down\"]\n",
    "filter = 1\n",
    "model_path = \"../src/models/tools/simple/parts\"\n",
    "target_path = \"../src/point_clouds_ref/\"\n",
    "scene = ry.Config()\n",
    "scene.addFile(\"../src/config/tools_simple1_s.g\")\n",
    "scene.view(False)\n",
    "\n",
    "reference_tool = \"shovel\" # hammer, rake, scraper, axe # Select a reference tool"
   ]
  },
  {
   "cell_type": "markdown",
   "metadata": {},
   "source": [
    "## STEP 1: Generate the point cloud for the reference tool"
   ]
  },
  {
   "cell_type": "code",
   "execution_count": null,
   "metadata": {},
   "outputs": [],
   "source": [
    "print(\"Generating the reference point cloud\")\n",
    "rai = RAI(verbose=0)\n",
    "segments_ref = rai.generate_ref_point_cloud(model_path, cam_list, filter = filter, object_name=reference_tool)"
   ]
  },
  {
   "cell_type": "markdown",
   "metadata": {},
   "source": [
    "## STEP 2: Generate the point cloud for the candidate objects"
   ]
  },
  {
   "cell_type": "code",
   "execution_count": null,
   "metadata": {},
   "outputs": [],
   "source": [
    "print(\"Generating the candidate point cloud\")\n",
    "cam_list = [\"cam_front_left\", \"cam_front_right\", \"cam_back_right\", \"cam_back_left\", \"cam_up\", \"cam_front\", \"cam_left\", \"cam_back\"] \n",
    "ptc_cand, _, _ = rai.get_raw_point_cloud(scene, cam_list, filter = filter)\n",
    "   "
   ]
  },
  {
   "cell_type": "markdown",
   "metadata": {},
   "source": [
    "## STEP 3: Remove the plane from the scene"
   ]
  },
  {
   "cell_type": "code",
   "execution_count": null,
   "metadata": {},
   "outputs": [],
   "source": [
    "print(\"Removing the plane from the scene\")\n",
    "seg = SEG(verbose=0)\n",
    "pcl_filtered = seg.RANSAC_plane(ptc_cand)\n",
    "segments_cand = seg.segment_objects(pcl_filtered, scene)"
   ]
  },
  {
   "cell_type": "markdown",
   "metadata": {},
   "source": [
    "## STEP 4: Fit SuperQuadric function to the objects"
   ]
  },
  {
   "cell_type": "code",
   "execution_count": null,
   "metadata": {},
   "outputs": [],
   "source": [
    "print(\"Fitting SuperQuadric function to the objects\")\n",
    "param_ref  = {}\n",
    "for key, pcd in segments_ref.items():\n",
    "    sqf = SQF(pcd, verbose=0)\n",
    "    param, _, _, _ = sqf.fit(sq_type=[0])\n",
    "    if len(param) < 12:\n",
    "        param = np.pad(param, (0, 12 - len(param)), mode='constant', constant_values=0)\n",
    "    param_ref[key] = param\n",
    "\n",
    "param_cand = {}\n",
    "for key, pcd in segments_cand.items():\n",
    "    sqf = SQF(pcd, verbose=0)\n",
    "    param, _, _, _ = sqf.fit(sq_type=[0])\n",
    "    if len(param) < 12:\n",
    "        param = np.pad(param, (0, 12 - len(param)), mode='constant', constant_values=0)\n",
    "    param_cand[key] = param"
   ]
  },
  {
   "cell_type": "markdown",
   "metadata": {},
   "source": [
    "## STEP 5: Find the best matching candidates objects to the reference tool set"
   ]
  },
  {
   "cell_type": "code",
   "execution_count": null,
   "metadata": {},
   "outputs": [],
   "source": [
    "print(\"Finding the best matching candidate objects to the reference tool set\")\n",
    "score = Score(param_ref, param_cand, verbose=1)\n",
    "match_1, match_2 = score.algorithm_1()"
   ]
  },
  {
   "cell_type": "markdown",
   "metadata": {},
   "source": [
    "## STEP 6: Create the tool"
   ]
  },
  {
   "cell_type": "code",
   "execution_count": null,
   "metadata": {},
   "outputs": [],
   "source": [
    "rai.create_tool(scene, match_1, match_2)"
   ]
  }
 ],
 "metadata": {
  "kernelspec": {
   "display_name": "Python 3",
   "language": "python",
   "name": "python3"
  },
  "language_info": {
   "codemirror_mode": {
    "name": "ipython",
    "version": 3
   },
   "file_extension": ".py",
   "mimetype": "text/x-python",
   "name": "python",
   "nbconvert_exporter": "python",
   "pygments_lexer": "ipython3",
   "version": "3.8.10"
  }
 },
 "nbformat": 4,
 "nbformat_minor": 2
}
