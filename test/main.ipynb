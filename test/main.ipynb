{
 "cells": [
  {
   "cell_type": "markdown",
   "metadata": {},
   "source": [
    "# TOOL MCGVYERING: TOOL CREATION WITH AUXILARY OBJECTS\n"
   ]
  },
  {
   "cell_type": "markdown",
   "metadata": {},
   "source": [
    "## Required Libraries & Parameters"
   ]
  },
  {
   "cell_type": "code",
   "execution_count": 1,
   "metadata": {},
   "outputs": [
    {
     "name": "stdout",
     "output_type": "stream",
     "text": [
      "Jupyter environment detected. Enabling Open3D WebVisualizer.\n",
      "[Open3D INFO] WebRTC GUI backend enabled.\n",
      "[Open3D INFO] WebRTCWindowSystem: HTTP handshake server disabled.\n"
     ]
    }
   ],
   "source": [
    "import sys\n",
    "sys.path.append('../src')\n",
    "import numpy as np\n",
    "import robotic as ry\n",
    "\n",
    "from RAI import RAI\n",
    "from SEG import SEG\n",
    "from SQF import SQF\n",
    "from Score import Score\n",
    "\n",
    "cam_list = [\"cam_front_left\", \"cam_front_right\", \"cam_back_right\", \"cam_back_left\", \"cam_up\", \"cam_front\", \"cam_left\", \"cam_back\", \"cam_right\"] \n",
    "filter = 1\n",
    "model_path = \"../src/models/tools/simple/parts\"\n",
    "target_path = \"../src/point_clouds_ref/\"\n",
    "scene = ry.Config()\n",
    "scene.addFile(\"../src/config/tools_simple1_s.g\") \n",
    "ref_file = \"../src/parameters_ref.csv\"\n",
    "cand_file = \"../src/parameters_cand.csv\"\n",
    "reference_tool = \"shovel\" # shovel, hammer, rake # Select a reference tool"
   ]
  },
  {
   "cell_type": "markdown",
   "metadata": {},
   "source": [
    "## STEP 1: Generate the point cloud for the reference tool"
   ]
  },
  {
   "cell_type": "code",
   "execution_count": 2,
   "metadata": {},
   "outputs": [
    {
     "name": "stdout",
     "output_type": "stream",
     "text": [
      "Generating the reference point cloud\n",
      "Model name: shovel_head\n",
      "Model name: shovel_handle\n"
     ]
    }
   ],
   "source": [
    "print(\"Generating the reference point cloud\")\n",
    "rai = RAI(verbose=0)\n",
    "segments_ref = rai.generate_ref_point_cloud(model_path, cam_list, filter = filter, object_name=reference_tool)"
   ]
  },
  {
   "cell_type": "markdown",
   "metadata": {},
   "source": [
    "## STEP 2: Generate the point cloud for the candidate objects"
   ]
  },
  {
   "cell_type": "code",
   "execution_count": 3,
   "metadata": {},
   "outputs": [
    {
     "name": "stdout",
     "output_type": "stream",
     "text": [
      "Generating the candidate point cloud\n"
     ]
    }
   ],
   "source": [
    "print(\"Generating the candidate point cloud\")\n",
    "ptc_cand, _, _ = rai.get_raw_point_cloud(scene, cam_list[0:7], filter = filter)"
   ]
  },
  {
   "cell_type": "markdown",
   "metadata": {},
   "source": [
    "## STEP 3: Remove the plane from the scene"
   ]
  },
  {
   "cell_type": "code",
   "execution_count": 4,
   "metadata": {},
   "outputs": [
    {
     "name": "stdout",
     "output_type": "stream",
     "text": [
      "Removing the plane from the scene\n",
      "Segmenting the objects\n"
     ]
    }
   ],
   "source": [
    "print(\"Removing the plane from the scene\")\n",
    "seg = SEG(verbose=0)\n",
    "pcl_filtered = seg.RANSAC_plane(ptc_cand)\n",
    "\n",
    "print(\"Segmenting the objects\")\n",
    "segments_cand = seg.segment_objects(pcl_filtered, scene)"
   ]
  },
  {
   "cell_type": "markdown",
   "metadata": {},
   "source": [
    "# STEP Alternative: You can also use the premade object dataset (PS: Dont run Steps 2,3,6)"
   ]
  },
  {
   "cell_type": "code",
   "execution_count": 8,
   "metadata": {},
   "outputs": [],
   "source": [
    "segments_cand = RAI.read_point_cloud_from_folder(\"../src/models/dataset/\")"
   ]
  },
  {
   "cell_type": "markdown",
   "metadata": {},
   "source": [
    "## STEP 4: Fit SuperQuadric function to the objects"
   ]
  },
  {
   "cell_type": "code",
   "execution_count": 5,
   "metadata": {},
   "outputs": [
    {
     "name": "stdout",
     "output_type": "stream",
     "text": [
      "Parameters loaded from ../src/parameters_ref.csv\n",
      "Parameters loaded from ../src/parameters_cand.csv\n"
     ]
    }
   ],
   "source": [
    "param_ref_full = SQF.load_parameters_from_csv(ref_file)\n",
    "param_cand_full = SQF.load_parameters_from_csv(cand_file)\n",
    "\n",
    "param_ref = {key: param_ref_full[key] for key in segments_ref.keys() if key in param_ref_full}\n",
    "param_cand = {key: param_cand_full[key] for key in segments_cand.keys() if key in param_cand_full}\n",
    "\n",
    "missing_ref_keys = set(segments_ref.keys()) - set(param_ref.keys())\n",
    "if missing_ref_keys:\n",
    "    print(f\"Fitting SuperQuadric function for missing reference objects: {missing_ref_keys}\")\n",
    "    for key in missing_ref_keys:\n",
    "        pcd = segments_ref[key]\n",
    "        sqf = SQF(pcd, verbose=0)\n",
    "        try:\n",
    "            param, _, _, _ = sqf.fit(sq_type=[0])\n",
    "            if len(param) < 12:\n",
    "                param = np.pad(param, (0, 12 - len(param)), mode='constant', constant_values=0)\n",
    "            param_ref[key] = param\n",
    "        except ValueError as e:\n",
    "            print(f\"Error fitting SQF for reference object {key}: {e}\")\n",
    "    SQF.save_parameters_to_csv({**param_ref_full, **param_ref}, ref_file)\n",
    "\n",
    "missing_cand_keys = set(segments_cand.keys()) - set(param_cand.keys())\n",
    "if missing_cand_keys:\n",
    "    print(f\"Fitting SuperQuadric function for missing candidate objects: {missing_cand_keys}\")\n",
    "    for key in missing_cand_keys:\n",
    "        pcd = segments_cand[key]\n",
    "        sqf = SQF(pcd, verbose=0)\n",
    "        try:\n",
    "            param, _, _, _ = sqf.fit(sq_type=[0])\n",
    "            if len(param) < 12:\n",
    "                param = np.pad(param, (0, 12 - len(param)), mode='constant', constant_values=0)\n",
    "            param_cand[key] = param\n",
    "        except ValueError as e:\n",
    "            print(f\"Error fitting SQF for candidate object {key}: {e}\")\n",
    "    SQF.save_parameters_to_csv({**param_cand_full, **param_cand}, cand_file)\n"
   ]
  },
  {
   "cell_type": "markdown",
   "metadata": {},
   "source": [
    "## STEP 5: Find the best matching candidates objects to the reference tool set"
   ]
  },
  {
   "cell_type": "code",
   "execution_count": 6,
   "metadata": {},
   "outputs": [
    {
     "name": "stdout",
     "output_type": "stream",
     "text": [
      "Finding the best matching candidate objects to the reference tool set\n",
      "Matches: [('shovel_head', 'obj_prism_short_hollow'), ('shovel_handle', 'obj_prism_long')], Total Error: 0.6490, Shape Error: 0.0000, Size Error: 0.3205, Ratio Error: 0.6572\n",
      "Matches: [('shovel_head', 'obj_prism_short'), ('shovel_handle', 'obj_prism_long')], Total Error: 0.6580, Shape Error: 0.0000, Size Error: 0.3423, Ratio Error: 0.6315\n",
      "Matches: [('shovel_head', 'obj_prism_short_hollow'), ('shovel_handle', 'obj_prism_short')], Total Error: 0.9240, Shape Error: 0.0000, Size Error: 0.5327, Ratio Error: 0.7825\n",
      "Matches: [('shovel_head', 'obj_prism_short'), ('shovel_handle', 'obj_prism_short_hollow')], Total Error: 0.9511, Shape Error: 0.0000, Size Error: 0.5848, Ratio Error: 0.7327\n",
      "Matches: [('shovel_head', 'obj_prism_long'), ('shovel_handle', 'obj_prism_short')], Total Error: 1.2823, Shape Error: 0.0000, Size Error: 0.7753, Ratio Error: 1.0140\n",
      "Matches: [('shovel_head', 'obj_prism_long'), ('shovel_handle', 'obj_prism_short_hollow')], Total Error: 1.3005, Shape Error: 0.0000, Size Error: 0.8056, Ratio Error: 0.9899\n",
      "Matches: [('shovel_head', 'obj_sphere_hollow'), ('shovel_handle', 'obj_prism_long')], Total Error: 1.6074, Shape Error: 1.0703, Size Error: 0.2816, Ratio Error: 0.5111\n",
      "Matches: [('shovel_head', 'obj_sphere_hollow'), ('shovel_handle', 'obj_prism_short')], Total Error: 1.8824, Shape Error: 1.0703, Size Error: 0.4938, Ratio Error: 0.6365\n",
      "Matches: [('shovel_head', 'obj_sphere_hollow'), ('shovel_handle', 'obj_prism_short_hollow')], Total Error: 1.9006, Shape Error: 1.0703, Size Error: 0.5241, Ratio Error: 0.6123\n",
      "Matches: [('shovel_head', 'obj_sphere'), ('shovel_handle', 'obj_prism_long')], Total Error: 2.1235, Shape Error: 1.2238, Size Error: 0.5687, Ratio Error: 0.6620\n",
      "Matches: [('shovel_head', 'obj_sphere'), ('shovel_handle', 'obj_prism_short')], Total Error: 2.3984, Shape Error: 1.2238, Size Error: 0.7809, Ratio Error: 0.7873\n",
      "Matches: [('shovel_head', 'obj_sphere'), ('shovel_handle', 'obj_prism_short_hollow')], Total Error: 2.4166, Shape Error: 1.2238, Size Error: 0.8112, Ratio Error: 0.7632\n",
      "Matches: [('shovel_head', 'obj_prism_short_hollow'), ('shovel_handle', 'obj_sphere_hollow')], Total Error: 2.8352, Shape Error: 1.0703, Size Error: 1.0272, Ratio Error: 1.4754\n",
      "Matches: [('shovel_head', 'obj_prism_short'), ('shovel_handle', 'obj_sphere_hollow')], Total Error: 2.8442, Shape Error: 1.0703, Size Error: 1.0490, Ratio Error: 1.4498\n",
      "Matches: [('shovel_head', 'obj_prism_long'), ('shovel_handle', 'obj_sphere_hollow')], Total Error: 3.1936, Shape Error: 1.0703, Size Error: 1.2698, Ratio Error: 1.7070\n",
      "Matches: [('shovel_head', 'obj_prism_short_hollow'), ('shovel_handle', 'obj_sphere')], Total Error: 3.3027, Shape Error: 1.2238, Size Error: 1.2898, Ratio Error: 1.5782\n",
      "Matches: [('shovel_head', 'obj_prism_short'), ('shovel_handle', 'obj_sphere')], Total Error: 3.3117, Shape Error: 1.2238, Size Error: 1.3116, Ratio Error: 1.5526\n",
      "Matches: [('shovel_head', 'obj_prism_long'), ('shovel_handle', 'obj_sphere')], Total Error: 3.6611, Shape Error: 1.2238, Size Error: 1.5324, Ratio Error: 1.8098\n",
      "Matches: [('shovel_head', 'obj_sphere_hollow'), ('shovel_handle', 'obj_sphere')], Total Error: 4.2611, Shape Error: 2.2941, Size Error: 1.2509, Ratio Error: 1.4322\n",
      "Matches: [('shovel_head', 'obj_sphere'), ('shovel_handle', 'obj_sphere_hollow')], Total Error: 4.3096, Shape Error: 2.2941, Size Error: 1.2754, Ratio Error: 1.4802\n"
     ]
    }
   ],
   "source": [
    "print(\"Finding the best matching candidate objects to the reference tool set\")\n",
    "score = Score(param_ref, param_cand, verbose=1)\n",
    "match_1, match_2 = score.algorithm_1()"
   ]
  },
  {
   "cell_type": "markdown",
   "metadata": {},
   "source": [
    "## STEP 6: Create the tool"
   ]
  },
  {
   "cell_type": "code",
   "execution_count": 7,
   "metadata": {},
   "outputs": [
    {
     "name": "stdout",
     "output_type": "stream",
     "text": [
      "{ time: 12.9844, evals: 300, done: 1, feasible: 0, eq: 126.227, ineq: 0, sos: 72.3805, f: 0 }\n"
     ]
    },
    {
     "data": {
      "text/plain": [
       "False"
      ]
     },
     "execution_count": 7,
     "metadata": {},
     "output_type": "execute_result"
    }
   ],
   "source": [
    "rai.create_tool(scene, match_1, match_2)"
   ]
  }
 ],
 "metadata": {
  "kernelspec": {
   "display_name": "Python 3",
   "language": "python",
   "name": "python3"
  },
  "language_info": {
   "codemirror_mode": {
    "name": "ipython",
    "version": 3
   },
   "file_extension": ".py",
   "mimetype": "text/x-python",
   "name": "python",
   "nbconvert_exporter": "python",
   "pygments_lexer": "ipython3",
   "version": "3.8.10"
  }
 },
 "nbformat": 4,
 "nbformat_minor": 2
}
