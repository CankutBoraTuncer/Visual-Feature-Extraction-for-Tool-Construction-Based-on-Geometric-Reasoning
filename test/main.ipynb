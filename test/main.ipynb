{
 "cells": [
  {
   "cell_type": "markdown",
   "metadata": {},
   "source": [
    "# TOOL MCGVYERING: TOOL CREATION WITH AUXILARY OBJECTS\n"
   ]
  },
  {
   "cell_type": "markdown",
   "metadata": {},
   "source": [
    "## Required Libraries & Parameters"
   ]
  },
  {
   "cell_type": "code",
   "execution_count": 8,
   "metadata": {},
   "outputs": [],
   "source": [
    "import sys\n",
    "sys.path.append('../src')\n",
    "import numpy as np\n",
    "import robotic as ry\n",
    "\n",
    "from RAI import RAI\n",
    "from SEG import SEG\n",
    "from SQF import SQF\n",
    "from Score import Score\n",
    "\n",
    "cam_list = [\"cam_front\", \"cam_back\", \"cam_left\", \"cam_right\", \"cam_up\", \"cam_down\"]\n",
    "filter = 1\n",
    "model_path = \"../src/models/tools/simple/parts\"\n",
    "target_path = \"../src/point_clouds_ref/\"\n",
    "scene = ry.Config()\n",
    "scene.addFile(\"../src/config/tools_simple1_s.g\")\n",
    "scene.view(False)\n",
    "\n",
    "reference_tool = \"shovel\" # hammer, rake, scraper, axe # Select a reference tool"
   ]
  },
  {
   "cell_type": "markdown",
   "metadata": {},
   "source": [
    "## STEP 1: Generate the point cloud for the reference tool"
   ]
  },
  {
   "cell_type": "code",
   "execution_count": 9,
   "metadata": {},
   "outputs": [
    {
     "name": "stdout",
     "output_type": "stream",
     "text": [
      "Generating the reference point cloud\n",
      "Model name: shovel_head_s\n",
      "Model name: shovel_handle_s\n"
     ]
    }
   ],
   "source": [
    "print(\"Generating the reference point cloud\")\n",
    "rai = RAI(verbose=0)\n",
    "segments_ref = rai.generate_ref_point_cloud(model_path, cam_list, filter = filter, object_name=reference_tool)"
   ]
  },
  {
   "cell_type": "markdown",
   "metadata": {},
   "source": [
    "## STEP 2: Generate the point cloud for the candidate objects"
   ]
  },
  {
   "cell_type": "code",
   "execution_count": 3,
   "metadata": {},
   "outputs": [
    {
     "name": "stdout",
     "output_type": "stream",
     "text": [
      "Generating the candidate point cloud\n"
     ]
    }
   ],
   "source": [
    "print(\"Generating the candidate point cloud\")\n",
    "cam_list = [\"cam_front_left\", \"cam_front_right\", \"cam_back_right\", \"cam_back_left\", \"cam_up\", \"cam_front\", \"cam_left\", \"cam_back\"] \n",
    "ptc_cand, _, _ = rai.get_raw_point_cloud(scene, cam_list, filter = filter)\n",
    "   "
   ]
  },
  {
   "cell_type": "markdown",
   "metadata": {},
   "source": [
    "## STEP 3: Remove the plane from the scene"
   ]
  },
  {
   "cell_type": "code",
   "execution_count": null,
   "metadata": {},
   "outputs": [],
   "source": [
    "print(\"Removing the plane from the scene\")\n",
    "seg = SEG(verbose=0)\n",
    "pcl_filtered = seg.RANSAC_plane(ptc_cand)\n",
    "segments_cand = seg.segment_objects(pcl_filtered, scene)"
   ]
  },
  {
   "cell_type": "markdown",
   "metadata": {},
   "source": [
    "## STEP 4: Fit SuperQuadric function to the objects"
   ]
  },
  {
   "cell_type": "code",
   "execution_count": 11,
   "metadata": {},
   "outputs": [
    {
     "name": "stdout",
     "output_type": "stream",
     "text": [
      "Fitting SuperQuadric function to the objects\n",
      "Both `ftol` and `xtol` termination conditions are satisfied.\n",
      "Function evaluations 237, initial cost 7.9156e+00, final cost 8.7928e-01, first-order optimality 4.26e-08.\n",
      "`xtol` termination condition is satisfied.\n",
      "Function evaluations 1678, initial cost 5.4748e-01, final cost 7.1232e-05, first-order optimality 3.34e-07.\n",
      "`ftol` termination condition is satisfied.\n",
      "Function evaluations 3718, initial cost 2.4394e+00, final cost 2.2141e-01, first-order optimality 1.58e-03.\n",
      "`ftol` termination condition is satisfied.\n",
      "Function evaluations 3914, initial cost 1.0970e+01, final cost 4.0992e-01, first-order optimality 6.33e-03.\n",
      "`xtol` termination condition is satisfied.\n",
      "Function evaluations 1163, initial cost 3.1811e-01, final cost 2.6163e-03, first-order optimality 1.32e-05.\n",
      "`ftol` termination condition is satisfied.\n",
      "Function evaluations 390, initial cost 9.1868e+01, final cost 6.4416e+00, first-order optimality 5.16e-03.\n",
      "`ftol` termination condition is satisfied.\n",
      "Function evaluations 1410, initial cost 7.2089e-01, final cost 9.6485e-02, first-order optimality 1.10e-03.\n",
      "`ftol` termination condition is satisfied.\n",
      "Function evaluations 326, initial cost 3.2235e+00, final cost 1.6432e-01, first-order optimality 4.81e-04.\n",
      "`ftol` termination condition is satisfied.\n",
      "Function evaluations 1043, initial cost 4.6140e+00, final cost 1.7516e-02, first-order optimality 5.31e-05.\n",
      "`ftol` termination condition is satisfied.\n",
      "Function evaluations 2449, initial cost 3.9918e+00, final cost 3.6826e-01, first-order optimality 3.94e-05.\n",
      "`ftol` termination condition is satisfied.\n",
      "Function evaluations 1274, initial cost 4.5692e-04, final cost 7.2434e-05, first-order optimality 3.52e-07.\n",
      "The maximum number of function evaluations is exceeded.\n",
      "Function evaluations 5000, initial cost 5.9752e-01, final cost 5.4530e-03, first-order optimality 3.47e-05.\n"
     ]
    },
    {
     "ename": "ValueError",
     "evalue": "Optimization failed: The maximum number of function evaluations is exceeded.",
     "output_type": "error",
     "traceback": [
      "\u001b[0;31m---------------------------------------------------------------------------\u001b[0m",
      "\u001b[0;31mValueError\u001b[0m                                Traceback (most recent call last)",
      "Cell \u001b[0;32mIn[11], line 13\u001b[0m\n\u001b[1;32m     11\u001b[0m \u001b[38;5;28;01mfor\u001b[39;00m key, pcd \u001b[38;5;129;01min\u001b[39;00m segments_cand\u001b[38;5;241m.\u001b[39mitems():\n\u001b[1;32m     12\u001b[0m     sqf \u001b[38;5;241m=\u001b[39m SQF(pcd, verbose\u001b[38;5;241m=\u001b[39m\u001b[38;5;241m0\u001b[39m)\n\u001b[0;32m---> 13\u001b[0m     param, _, _, _ \u001b[38;5;241m=\u001b[39m \u001b[43msqf\u001b[49m\u001b[38;5;241;43m.\u001b[39;49m\u001b[43mfit\u001b[49m\u001b[43m(\u001b[49m\u001b[43msq_type\u001b[49m\u001b[38;5;241;43m=\u001b[39;49m\u001b[43m[\u001b[49m\u001b[38;5;241;43m0\u001b[39;49m\u001b[43m]\u001b[49m\u001b[43m)\u001b[49m\n\u001b[1;32m     14\u001b[0m     \u001b[38;5;28;01mif\u001b[39;00m \u001b[38;5;28mlen\u001b[39m(param) \u001b[38;5;241m<\u001b[39m \u001b[38;5;241m12\u001b[39m:\n\u001b[1;32m     15\u001b[0m         param \u001b[38;5;241m=\u001b[39m np\u001b[38;5;241m.\u001b[39mpad(param, (\u001b[38;5;241m0\u001b[39m, \u001b[38;5;241m12\u001b[39m \u001b[38;5;241m-\u001b[39m \u001b[38;5;28mlen\u001b[39m(param)), mode\u001b[38;5;241m=\u001b[39m\u001b[38;5;124m'\u001b[39m\u001b[38;5;124mconstant\u001b[39m\u001b[38;5;124m'\u001b[39m, constant_values\u001b[38;5;241m=\u001b[39m\u001b[38;5;241m0\u001b[39m)\n",
      "File \u001b[0;32m~/Desktop/Bilkent_MS/VIS/CS554_Computer_Vision_Project/test/../src/SQF.py:41\u001b[0m, in \u001b[0;36mSQF.fit\u001b[0;34m(self, sq_type)\u001b[0m\n\u001b[1;32m     38\u001b[0m \u001b[38;5;28;01mif\u001b[39;00m \u001b[38;5;28mself\u001b[39m\u001b[38;5;241m.\u001b[39mverbose \u001b[38;5;241m>\u001b[39m \u001b[38;5;241m0\u001b[39m:\n\u001b[1;32m     39\u001b[0m     \u001b[38;5;28mself\u001b[39m\u001b[38;5;241m.\u001b[39mdisplay_pcd(o3d\u001b[38;5;241m.\u001b[39mgeometry\u001b[38;5;241m.\u001b[39mPointCloud(o3d\u001b[38;5;241m.\u001b[39mutility\u001b[38;5;241m.\u001b[39mVector3dVector(filtered_points)), \u001b[38;5;124m\"\u001b[39m\u001b[38;5;124mfiltered pcd\u001b[39m\u001b[38;5;124m\"\u001b[39m)\n\u001b[0;32m---> 41\u001b[0m \u001b[38;5;28;01mreturn\u001b[39;00m \u001b[38;5;28;43mself\u001b[39;49m\u001b[38;5;241;43m.\u001b[39;49m\u001b[43mSQ_fitting_params\u001b[49m\u001b[43m(\u001b[49m\u001b[43mfiltered_points\u001b[49m\u001b[43m,\u001b[49m\u001b[43m \u001b[49m\u001b[43msq_type\u001b[49m\u001b[43m)\u001b[49m\n",
      "File \u001b[0;32m~/Desktop/Bilkent_MS/VIS/CS554_Computer_Vision_Project/test/../src/SQF.py:181\u001b[0m, in \u001b[0;36mSQF.SQ_fitting_params\u001b[0;34m(self, point_cloud, SQ_type)\u001b[0m\n\u001b[1;32m    169\u001b[0m result \u001b[38;5;241m=\u001b[39m least_squares(\n\u001b[1;32m    170\u001b[0m     fun\u001b[38;5;241m=\u001b[39mresiduals_fn,\n\u001b[1;32m    171\u001b[0m     x0\u001b[38;5;241m=\u001b[39mx_init,\n\u001b[0;32m   (...)\u001b[0m\n\u001b[1;32m    177\u001b[0m     verbose\u001b[38;5;241m=\u001b[39m\u001b[38;5;241m1\u001b[39m\n\u001b[1;32m    178\u001b[0m )\n\u001b[1;32m    180\u001b[0m \u001b[38;5;28;01mif\u001b[39;00m \u001b[38;5;129;01mnot\u001b[39;00m result\u001b[38;5;241m.\u001b[39msuccess:\n\u001b[0;32m--> 181\u001b[0m     \u001b[38;5;28;01mraise\u001b[39;00m \u001b[38;5;167;01mValueError\u001b[39;00m(\u001b[38;5;124mf\u001b[39m\u001b[38;5;124m\"\u001b[39m\u001b[38;5;124mOptimization failed: \u001b[39m\u001b[38;5;132;01m{\u001b[39;00mresult\u001b[38;5;241m.\u001b[39mmessage\u001b[38;5;132;01m}\u001b[39;00m\u001b[38;5;124m\"\u001b[39m)\n\u001b[1;32m    183\u001b[0m optimum_quadrics \u001b[38;5;241m=\u001b[39m result\u001b[38;5;241m.\u001b[39mx\n\u001b[1;32m    185\u001b[0m SQ \u001b[38;5;241m=\u001b[39m \u001b[38;5;28mself\u001b[39m\u001b[38;5;241m.\u001b[39mSQ2PCL(optimum_quadrics, sq_type)\n",
      "\u001b[0;31mValueError\u001b[0m: Optimization failed: The maximum number of function evaluations is exceeded."
     ]
    }
   ],
   "source": [
    "print(\"Fitting SuperQuadric function to the objects\")\n",
    "param_ref  = {}\n",
    "for key, pcd in segments_ref.items():\n",
    "    sqf = SQF(pcd, verbose=0)\n",
    "    param, _, _, _ = sqf.fit(sq_type=[0])\n",
    "    if len(param) < 12:\n",
    "        param = np.pad(param, (0, 12 - len(param)), mode='constant', constant_values=0)\n",
    "    param_ref[key] = param\n",
    "\n",
    "param_cand = {}\n",
    "for key, pcd in segments_cand.items():\n",
    "    sqf = SQF(pcd, verbose=0)\n",
    "    param, _, _, _ = sqf.fit(sq_type=[0])\n",
    "    if len(param) < 12:\n",
    "        param = np.pad(param, (0, 12 - len(param)), mode='constant', constant_values=0)\n",
    "    param_cand[key] = param"
   ]
  },
  {
   "cell_type": "markdown",
   "metadata": {},
   "source": [
    "## STEP 5: Find the best matching candidates objects to the reference tool set"
   ]
  },
  {
   "cell_type": "code",
   "execution_count": 6,
   "metadata": {},
   "outputs": [
    {
     "name": "stdout",
     "output_type": "stream",
     "text": [
      "Finding the best matching candidate objects to the reference tool set\n",
      "shovel_head_s object matches with obj_hammer_head object\n",
      "shovel_handle_s object matches with obj_axe_handle object\n"
     ]
    }
   ],
   "source": [
    "print(\"Finding the best matching candidate objects to the reference tool set\")\n",
    "score = Score(param_ref, param_cand, verbose=1)\n",
    "match_1, match_2 = score.algorithm_1()"
   ]
  },
  {
   "cell_type": "markdown",
   "metadata": {},
   "source": [
    "## STEP 6: Create the tool"
   ]
  },
  {
   "cell_type": "code",
   "execution_count": 7,
   "metadata": {},
   "outputs": [
    {
     "name": "stdout",
     "output_type": "stream",
     "text": [
      "-- pairCollision.cpp:libccd:354(0) WARNING: called MPR penetration for non intersecting meshes...\n",
      "-- pairCollision.cpp:libccd:359(0) WARNING: but GJK says intersection\n",
      "-- pairCollision.cpp:libccd:354(0) WARNING: called MPR penetration for non intersecting meshes...\n",
      "-- pairCollision.cpp:libccd:359(0) WARNING: but GJK says intersection\n",
      "-- pairCollision.cpp:libccd:354(0) WARNING: called MPR penetration for non intersecting meshes...\n",
      "-- pairCollision.cpp:libccd:359(0) WARNING: but GJK says intersection\n",
      "-- pairCollision.cpp:libccd:354(0) WARNING: called MPR penetration for non intersecting meshes...\n",
      "-- pairCollision.cpp:libccd:359(0) WARNING: but GJK says intersection\n",
      "-- pairCollision.cpp:libccd:354(0) WARNING: called MPR penetration for non intersecting meshes...\n",
      "-- pairCollision.cpp:libccd:359(0) WARNING: but GJK says intersection\n",
      "-- pairCollision.cpp:libccd:354(0) WARNING: called MPR penetration for non intersecting meshes...\n",
      "-- pairCollision.cpp:libccd:359(0) WARNING: but GJK says intersection\n",
      "-- pairCollision.cpp:libccd:354(0) WARNING: called MPR penetration for non intersecting meshes...\n",
      "-- pairCollision.cpp:libccd:359(0) WARNING: but GJK says intersection\n",
      "-- pairCollision.cpp:libccd:354(0) WARNING: called MPR penetration for non intersecting meshes...\n",
      "-- pairCollision.cpp:libccd:359(0) WARNING: but GJK says intersection\n",
      "-- pairCollision.cpp:libccd:354(0) WARNING: called MPR penetration for non intersecting meshes...\n",
      "-- pairCollision.cpp:libccd:359(0) WARNING: but GJK says intersection\n",
      "-- pairCollision.cpp:libccd:354(0) WARNING: called MPR penetration for non intersecting meshes...\n",
      "-- pairCollision.cpp:libccd:359(0) WARNING: but GJK says intersection\n",
      "-- pairCollision.cpp:libccd:354(0) WARNING: called MPR penetration for non intersecting meshes...\n",
      "-- pairCollision.cpp:libccd:359(0) WARNING: but GJK says intersection\n",
      "-- pairCollision.cpp:libccd:354(0) WARNING: called MPR penetration for non intersecting meshes...\n",
      "-- pairCollision.cpp:libccd:359(0) WARNING: but GJK says intersection\n",
      "-- pairCollision.cpp:libccd:354(0) WARNING: called MPR penetration for non intersecting meshes...\n",
      "-- pairCollision.cpp:libccd:359(0) WARNING: but GJK says intersection\n",
      "-- pairCollision.cpp:libccd:354(0) WARNING: called MPR penetration for non intersecting meshes...\n",
      "-- pairCollision.cpp:libccd:359(0) WARNING: but GJK says intersection\n",
      "-- pairCollision.cpp:libccd:354(0) WARNING: called MPR penetration for non intersecting meshes...\n",
      "-- pairCollision.cpp:libccd:359(0) WARNING: but GJK says intersection\n",
      "-- pairCollision.cpp:libccd:354(0) WARNING: called MPR penetration for non intersecting meshes...\n",
      "-- pairCollision.cpp:libccd:359(0) WARNING: but GJK says intersection\n",
      "-- pairCollision.cpp:libccd:354(0) WARNING: called MPR penetration for non intersecting meshes...\n",
      "-- pairCollision.cpp:libccd:359(0) WARNING: but GJK says intersection\n",
      "-- pairCollision.cpp:libccd:354(0) WARNING: called MPR penetration for non intersecting meshes...\n",
      "-- pairCollision.cpp:libccd:359(0) WARNING: but GJK says intersection\n",
      "-- pairCollision.cpp:libccd:354(0) WARNING: called MPR penetration for non intersecting meshes...\n",
      "-- pairCollision.cpp:libccd:359(0) WARNING: but GJK says intersection\n",
      "-- pairCollision.cpp:libccd:354(0) WARNING: called MPR penetration for non intersecting meshes...\n",
      "-- pairCollision.cpp:libccd:359(0) WARNING: but GJK says intersection\n",
      "-- pairCollision.cpp:libccd:354(0) WARNING: called MPR penetration for non intersecting meshes...\n",
      "-- pairCollision.cpp:libccd:359(0) WARNING: but GJK says intersection\n",
      "{ time: 7.90337, evals: 875, done: 1, feasible: 0, eq: 124.466, ineq: 0, sos: 88.8087, f: 0 }\n"
     ]
    },
    {
     "data": {
      "text/plain": [
       "False"
      ]
     },
     "execution_count": 7,
     "metadata": {},
     "output_type": "execute_result"
    }
   ],
   "source": [
    "rai.create_tool(scene, match_1, match_2)"
   ]
  }
 ],
 "metadata": {
  "kernelspec": {
   "display_name": "Python 3",
   "language": "python",
   "name": "python3"
  },
  "language_info": {
   "codemirror_mode": {
    "name": "ipython",
    "version": 3
   },
   "file_extension": ".py",
   "mimetype": "text/x-python",
   "name": "python",
   "nbconvert_exporter": "python",
   "pygments_lexer": "ipython3",
   "version": "3.8.10"
  }
 },
 "nbformat": 4,
 "nbformat_minor": 2
}
