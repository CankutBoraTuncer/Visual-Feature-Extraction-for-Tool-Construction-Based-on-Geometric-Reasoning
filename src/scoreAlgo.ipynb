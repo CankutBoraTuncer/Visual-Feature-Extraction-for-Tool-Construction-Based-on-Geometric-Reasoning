{
 "cells": [
  {
   "cell_type": "code",
   "execution_count": null,
   "metadata": {},
   "outputs": [
    {
     "name": "stdout",
     "output_type": "stream",
     "text": [
      "Best Permutation (Matched Candidate Parameters):\n",
      "[[ 0.12  0.06  0.03  0.    1.6   0.4   0.1   0.    0.    0.11  0.    0.  ]\n",
      " [ 0.02  0.02  0.28  0.    1.    1.    0.    0.    0.05  0.   -0.21  0.01]]\n",
      "\n",
      "Best Score: 0.13000000000000006\n",
      "\n",
      "Detailed Matches:\n",
      "Reference Part 1 matches with Candidate Object 2\n",
      "Reference Part 2 matches with Candidate Object 4\n"
     ]
    }
   ],
   "source": [
    "import itertools\n",
    "import numpy as np\n",
    "\n",
    "# def calculate_scores_for_pcd(pcd, SQ_type_action):\n",
    "#     action_SQ_params, _, SQ_action_subs, _ = SQ_fitting_params(pcd, SQ_type_action)\n",
    "\n",
    "#     action_part_scale = abs(np.min(SQ_action_subs, axis=0) - np.max(SQ_action_subs, axis=0))\n",
    "#     action_SQ_params[:3] = action_part_scale\n",
    "#     return action_SQ_params\n",
    "\n",
    "\n",
    "def calculate_action_score(reference_params, candidate_params):\n",
    "    score = 0\n",
    "    for ref, cand in zip(reference_params, candidate_params):\n",
    "        shape_diff = sum(abs(cand[3:5] - ref[3:5]))\n",
    "        position_diff = sum(abs(cand[-3:] - ref[-3:]))\n",
    "        \n",
    "        score += shape_diff + position_diff\n",
    "    return score\n",
    "\n",
    "\n",
    "def find_best_fit(reference_parts, possible_objects):\n",
    "    num_parts = len(reference_parts)\n",
    "    best_score = float('inf')\n",
    "    best_permutation = None\n",
    "    best_mapping = []\n",
    "\n",
    "    # Generate all permutations\n",
    "    permutations = itertools.permutations(possible_objects, num_parts)\n",
    "\n",
    "    for perm in permutations:\n",
    "        candidate_params = np.array(perm)\n",
    "        score = calculate_action_score(reference_parts, candidate_params)\n",
    "        if score < best_score:\n",
    "            best_score = score\n",
    "            best_permutation = candidate_params\n",
    "            best_mapping = [(f\"Reference Part {i+1}\", f\"Candidate Object {possible_objects.tolist().index(p.tolist()) + 1}\") \n",
    "                            for i, p in enumerate(perm)]\n",
    "\n",
    "    return best_permutation, best_score, best_mapping\n",
    "\n",
    "\n",
    "# action_SQ_params = calculate_scores_for_pcd(pcd, SQ_type_action)\n",
    "\n",
    "\n",
    "# Example\n",
    "reference_parts = np.array([\n",
    "    [0.1, 0.05, 0.02, 0.0, 1.5, 0.3, 0, 0, 0, 0.1, 0.0, 0.0],  # Head\n",
    "    [0.02, 0.02, 0.3, 0.0, 1.0, 1.0, 0, 0, 0, 0.0, -0.2, 0.0]   # Stick\n",
    "])\n",
    "\n",
    "possible_objects = np.array([\n",
    "    [0.05, 0.05, 0.02, 0.1, 1.2, 0.6, 0, 0, 0, 0.0, 0.0, 0.0],       # Toroid (Rubber Donut)\n",
    "    [0.12, 0.06, 0.03, 0.0, 1.6, 0.4, 0.1, 0, 0, 0.11, 0.0, 0.0],   # Rock\n",
    "    [0.13, 0.06, 0.04, 0.0, 1.8, 0.5, 0, 0, 0, 0.15, 0.0, 0.0],       # Brick\n",
    "    [0.02, 0.02, 0.28, 0.0, 1.0, 1.0, 0, 0, 0.05, 0.0, -0.21, 0.01], # Metal Rod\n",
    "\n",
    "\n",
    "\n",
    "])\n",
    "best_permutation, best_score, best_mapping = find_best_fit(reference_parts, possible_objects)\n",
    "print(\"Best Permutation (Matched Candidate Parameters):\")\n",
    "print(best_permutation)\n",
    "print(f\"\\nBest Score: {best_score}\")\n",
    "print(\"\\nDetailed Matches:\")\n",
    "for match in best_mapping:\n",
    "    print(f\"{match[0]} matches with {match[1]}\")\n"
   ]
  }
 ],
 "metadata": {
  "kernelspec": {
   "display_name": "venv",
   "language": "python",
   "name": "python3"
  },
  "language_info": {
   "codemirror_mode": {
    "name": "ipython",
    "version": 3
   },
   "file_extension": ".py",
   "mimetype": "text/x-python",
   "name": "python",
   "nbconvert_exporter": "python",
   "pygments_lexer": "ipython3",
   "version": "3.10.0"
  }
 },
 "nbformat": 4,
 "nbformat_minor": 2
}
